{
 "cells": [
  {
   "cell_type": "markdown",
   "metadata": {},
   "source": [
    "## MACHINE LEARNING 7, 8, 9, 10 & 11\n",
    "\n",
    "#### MACHINE LEARNING 7 to 11: Assignment"
   ]
  },
  {
   "cell_type": "markdown",
   "metadata": {},
   "source": [
    "### Problem Statement: Machine Learning 8"
   ]
  },
  {
   "cell_type": "markdown",
   "metadata": {},
   "source": [
    "In this assignment students have to find the frequency of words in a webpage. User can use urllib and BeautifulSoup to extract text from webpage.\n",
    "\n",
    "Hint:\n",
    "\n",
    "    from bs4 import BeautifulSoup\n",
    "    \n",
    "    import urllib.request\n",
    "    \n",
    "    import nltk\n",
    "\n",
    "    response = urllib.request.urlopen('http://php.net/')\n",
    "\n",
    "    html = response.read()\n",
    "\n",
    "soup = BeautifulSoup(html,\"html5lib\")"
   ]
  },
  {
   "cell_type": "code",
   "execution_count": 1,
   "metadata": {},
   "outputs": [],
   "source": [
    "import urllib.request\n",
    "import nltk\n",
    "from bs4 import BeautifulSoup\n",
    "response = urllib.request.urlopen('http://php.net/')\n",
    "html = response.read()\n",
    "raw = BeautifulSoup(html,\"html5lib\").get_text()"
   ]
  },
  {
   "cell_type": "code",
   "execution_count": 2,
   "metadata": {},
   "outputs": [
    {
     "name": "stderr",
     "output_type": "stream",
     "text": [
      "[nltk_data] Downloading package punkt to C:\\Users\\Raghavendra\n",
      "[nltk_data]     Matmari\\AppData\\Roaming\\nltk_data...\n",
      "[nltk_data]   Unzipping tokenizers\\punkt.zip.\n"
     ]
    }
   ],
   "source": [
    "nltk.download('punkt')\n",
    "words = nltk.word_tokenize(raw)"
   ]
  },
  {
   "cell_type": "code",
   "execution_count": 3,
   "metadata": {},
   "outputs": [
    {
     "name": "stdout",
     "output_type": "stream",
     "text": [
      "the; 512\n",
      "php; 279\n",
      "for; 184\n",
      "in; 157\n",
      "release; 152\n",
      "of; 147\n",
      "can; 114\n",
      "be; 109\n",
      "and; 105\n",
      "found; 104\n",
      "is; 100\n",
      "this; 92\n",
      "on; 85\n",
      "please; 76\n",
      "version; 72\n",
      "file; 70\n",
      "you; 65\n",
      "upgrading; 60\n",
      "or; 55\n",
      "to; 50\n",
      "changes; 46\n",
      "downloads; 45\n",
      "source; 43\n",
      "list; 43\n",
      "test; 43\n",
      "page; 40\n",
      "released; 40\n",
      "also; 38\n",
      "team; 37\n",
      "visit; 37\n"
     ]
    }
   ],
   "source": [
    "# Removing the single-characters, mostly punctuations\n",
    "\n",
    "words = [word for word in words if len(word) > 1]\n",
    "\n",
    "# Removing any numbers present in our text\n",
    "\n",
    "words = [word for word in words if not word.isnumeric()]\n",
    "\n",
    "# Lowercase all words (default_stopwords are lowercase too)\n",
    "\n",
    "words = [word.lower() for word in words]\n",
    "\n",
    "# Calculating frequency distribution\n",
    "\n",
    "fdist = nltk.FreqDist(words)\n",
    "\n",
    "# Printing the top 30 words with their frequency\n",
    "\n",
    "for word, frequency in fdist.most_common(30):\n",
    "    print(u'{}; {}'.format(word, frequency))"
   ]
  },
  {
   "cell_type": "code",
   "execution_count": null,
   "metadata": {},
   "outputs": [],
   "source": []
  }
 ],
 "metadata": {
  "kernelspec": {
   "display_name": "Python 3",
   "language": "python",
   "name": "python3"
  },
  "language_info": {
   "codemirror_mode": {
    "name": "ipython",
    "version": 3
   },
   "file_extension": ".py",
   "mimetype": "text/x-python",
   "name": "python",
   "nbconvert_exporter": "python",
   "pygments_lexer": "ipython3",
   "version": "3.7.3"
  }
 },
 "nbformat": 4,
 "nbformat_minor": 2
}
